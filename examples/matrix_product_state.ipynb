{
 "cells": [
  {
   "cell_type": "markdown",
   "metadata": {},
   "source": [
    "# Matrix product state simulator example"
   ]
  },
  {
   "cell_type": "markdown",
   "metadata": {},
   "source": [
    "## Import relevant modules"
   ]
  },
  {
   "cell_type": "code",
   "execution_count": 5,
   "metadata": {},
   "outputs": [],
   "source": [
    "from basic_qc_simulator import Circuit\n",
    "from basic_qc_simulator.simulators import MatrixProductStateSimulator"
   ]
  },
  {
   "cell_type": "markdown",
   "metadata": {},
   "source": [
    "## Create a circuit"
   ]
  },
  {
   "cell_type": "code",
   "execution_count": 2,
   "metadata": {},
   "outputs": [
    {
     "data": {
      "image/png": "[encoded data removed]",
      "text/plain": [
       "<Figure size 1290.83x284.278 with 1 Axes>"
      ]
     },
     "execution_count": 2,
     "metadata": {},
     "output_type": "execute_result"
    }
   ],
   "source": [
    "c = Circuit(3)\n",
    "c.h(0)\n",
    "c.cx(0, 1)\n",
    "c.cx(1, 2)\n",
    "c.save_result(\"state_vector\")\n",
    "c.cx(1, 2)\n",
    "c.cx(0, 1)\n",
    "c.h(0)\n",
    "c.save_result(\"state_vector\")\n",
    "c.draw(\"mpl\")"
   ]
  },
  {
   "cell_type": "markdown",
   "metadata": {},
   "source": [
    "## Run the state vector simulator"
   ]
  },
  {
   "cell_type": "code",
   "execution_count": 3,
   "metadata": {},
   "outputs": [
    {
     "ename": "NotImplementedError",
     "evalue": "",
     "output_type": "error",
     "traceback": [
      "\u001b[0;31m---------------------------------------------------------------------------\u001b[0m",
      "\u001b[0;31mNotImplementedError\u001b[0m                       Traceback (most recent call last)",
      "Cell \u001b[0;32mIn[3], line 2\u001b[0m\n\u001b[1;32m      1\u001b[0m sim \u001b[38;5;241m=\u001b[39m MatrixProductStateSimulator()\n\u001b[0;32m----> 2\u001b[0m \u001b[43msim\u001b[49m\u001b[38;5;241;43m.\u001b[39;49m\u001b[43mrun\u001b[49m\u001b[43m(\u001b[49m\u001b[43mc\u001b[49m\u001b[43m)\u001b[49m\n",
      "File \u001b[0;32m~/Desktop/basic-qc-simulator/basic_qc_simulator/simulators/abstract_simulator.py:46\u001b[0m, in \u001b[0;36mAbstractSimulator.run\u001b[0;34m(self, circuit)\u001b[0m\n\u001b[1;32m     40\u001b[0m \u001b[38;5;28;01mdef\u001b[39;00m \u001b[38;5;21mrun\u001b[39m(\u001b[38;5;28mself\u001b[39m, circuit: Circuit) \u001b[38;5;241m-\u001b[39m\u001b[38;5;241m>\u001b[39m \u001b[38;5;28;01mNone\u001b[39;00m:\n\u001b[1;32m     41\u001b[0m \u001b[38;5;250m    \u001b[39m\u001b[38;5;124;03m\"\"\"Run the circuit on the simulator\u001b[39;00m\n\u001b[1;32m     42\u001b[0m \n\u001b[1;32m     43\u001b[0m \u001b[38;5;124;03m    Args:\u001b[39;00m\n\u001b[1;32m     44\u001b[0m \u001b[38;5;124;03m        circuit (Circuit): circuit to run\u001b[39;00m\n\u001b[1;32m     45\u001b[0m \u001b[38;5;124;03m    \"\"\"\u001b[39;00m\n\u001b[0;32m---> 46\u001b[0m     state \u001b[38;5;241m=\u001b[39m \u001b[38;5;28;43mself\u001b[39;49m\u001b[38;5;241;43m.\u001b[39;49m\u001b[43m_prepare_state\u001b[49m\u001b[43m(\u001b[49m\u001b[43mcircuit\u001b[49m\u001b[38;5;241;43m.\u001b[39;49m\u001b[43mnum_qubits\u001b[49m\u001b[43m)\u001b[49m\n\u001b[1;32m     48\u001b[0m     \u001b[38;5;66;03m# Apply the gates in the circuit\u001b[39;00m\n\u001b[1;32m     49\u001b[0m     \u001b[38;5;28;01mfor\u001b[39;00m index, instruction \u001b[38;5;129;01min\u001b[39;00m \u001b[38;5;28menumerate\u001b[39m(circuit\u001b[38;5;241m.\u001b[39minstructions):\n\u001b[1;32m     50\u001b[0m         \u001b[38;5;66;03m# Save the result if needed\u001b[39;00m\n",
      "File \u001b[0;32m~/Desktop/basic-qc-simulator/basic_qc_simulator/simulators/matrix_product_state.py:29\u001b[0m, in \u001b[0;36mMatrixProductStateSimulator._prepare_state\u001b[0;34m(self, num_qubits)\u001b[0m\n\u001b[1;32m     20\u001b[0m \u001b[38;5;28;01mdef\u001b[39;00m \u001b[38;5;21m_prepare_state\u001b[39m(\u001b[38;5;28mself\u001b[39m, num_qubits: \u001b[38;5;28mint\u001b[39m) \u001b[38;5;241m-\u001b[39m\u001b[38;5;241m>\u001b[39m np\u001b[38;5;241m.\u001b[39mndarray:\n\u001b[1;32m     21\u001b[0m \u001b[38;5;250m    \u001b[39m\u001b[38;5;124;03m\"\"\"Prepare the initial matrix product state\u001b[39;00m\n\u001b[1;32m     22\u001b[0m \n\u001b[1;32m     23\u001b[0m \u001b[38;5;124;03m    Args:\u001b[39;00m\n\u001b[0;32m   (...)\u001b[0m\n\u001b[1;32m     27\u001b[0m \u001b[38;5;124;03m        np.ndarray: initial matrix product state\u001b[39;00m\n\u001b[1;32m     28\u001b[0m \u001b[38;5;124;03m    \"\"\"\u001b[39;00m\n\u001b[0;32m---> 29\u001b[0m     \u001b[38;5;28;01mraise\u001b[39;00m \u001b[38;5;167;01mNotImplementedError\u001b[39;00m\n",
      "\u001b[0;31mNotImplementedError\u001b[0m: "
     ]
    }
   ],
   "source": [
    "sim = MatrixProductStateSimulator()\n",
    "sim.run(c)"
   ]
  },
  {
   "cell_type": "code",
   "execution_count": null,
   "metadata": {},
   "outputs": [
    {
     "data": {
      "text/plain": [
       "array([0.70710678+0.j, 0.        +0.j, 0.        +0.j, 0.        +0.j,\n",
       "       0.        +0.j, 0.        +0.j, 0.        +0.j, 0.70710678+0.j])"
      ]
     },
     "execution_count": 4,
     "metadata": {},
     "output_type": "execute_result"
    }
   ],
   "source": [
    "sim.results[0].result"
   ]
  },
  {
   "cell_type": "code",
   "execution_count": null,
   "metadata": {},
   "outputs": [
    {
     "data": {
      "text/plain": [
       "array([1.+0.j, 0.+0.j, 0.+0.j, 0.+0.j, 0.+0.j, 0.+0.j, 0.+0.j, 0.+0.j])"
      ]
     },
     "execution_count": 5,
     "metadata": {},
     "output_type": "execute_result"
    }
   ],
   "source": [
    "sim.results[1].result"
   ]
  },
  {
   "cell_type": "code",
   "execution_count": 1,
   "metadata": {},
   "outputs": [
    {
     "name": "stderr",
     "output_type": "stream",
     "text": [
      "Converting state vector to Vidal's matrix product state representation\n",
      "Singular Value Decomposition: U=(2, 2), S=(2,), V_dagger=(4, 4)\n",
      "Nonzero Singular Values: [1.]\n",
      "Singular Value Decomposition: U=(2, 2), S=(2,), V_dagger=(2, 2)\n",
      "Nonzero Singular Values: [1.]\n"
     ]
    },
    {
     "data": {
      "text/plain": [
       "([array([[1.+0.j, 0.+0.j],\n",
       "         [0.+0.j, 1.+0.j]]),\n",
       "  array([[1.+0.j, 0.+0.j],\n",
       "         [0.+0.j, 1.+0.j]]),\n",
       "  array([[1.+0.j, 0.+0.j],\n",
       "         [0.+0.j, 1.+0.j]])],\n",
       " [array([1.]), array([1.])])"
      ]
     },
     "execution_count": 1,
     "metadata": {},
     "output_type": "execute_result"
    }
   ],
   "source": [
    "from basic_qc_simulator import Circuit\n",
    "from basic_qc_simulator.simulators import MatrixProductStateSimulator\n",
    "import numpy as np\n",
    "import logging\n",
    "\n",
    "logger = logging.getLogger(\"basic_qc_simulator\")\n",
    "logger.setLevel(logging.DEBUG)\n",
    "if not logger.hasHandlers():\n",
    "    logger.addHandler(logging.StreamHandler())\n",
    "\n",
    "circ = Circuit(3)\n",
    "\n",
    "circ.h(0)\n",
    "circ.save_result(\"matrix_product_state\")\n",
    "\n",
    "sim = MatrixProductStateSimulator()\n",
    "sv = np.array([1, 0, 0, 0, 0, 0, 0, 0], dtype=np.complex128)\n",
    "# sv = np.array([1, 0, 0, 0, 0, 0, 0, 1], dtype=np.complex128) / np.sqrt(2)\n",
    "\n",
    "# sim.run(circ)\n",
    "# sim.results[0].resultsin\n",
    "\n",
    "# sim._state_vector_to_left_canonical_matrix_product_state(sv, truncate=True)\n",
    "sim._state_vector_to_vidal_matrix_product_state(sv, truncate=True)"
   ]
  },
  {
   "cell_type": "code",
   "execution_count": 12,
   "metadata": {},
   "outputs": [
    {
     "data": {
      "text/plain": [
       "([(array([[1.+0.j]]), array([[0.+0.j]])),\n",
       "  (array([[1.+0.j]]), array([[0.+0.j]])),\n",
       "  (array([[1.+0.j]]), array([[0.+0.j]]))],\n",
       " [array([1.]), array([1.])])"
      ]
     },
     "execution_count": 12,
     "metadata": {},
     "output_type": "execute_result"
    }
   ],
   "source": [
    "from qiskit import QuantumCircuit\n",
    "from qiskit_aer import AerSimulator\n",
    "\n",
    "qc = QuantumCircuit(3)\n",
    "\n",
    "qc.save_matrix_product_state()\n",
    "qsim = AerSimulator(method=\"matrix_product_state\")\n",
    "qsim.run(qc).result().data(0)[\"matrix_product_state\"]"
   ]
  },
  {
   "cell_type": "code",
   "execution_count": 6,
   "metadata": {},
   "outputs": [
    {
     "data": {
      "text/plain": [
       "array([[['aii', 'bjj', 'ckk', 'dll'],\n",
       "        ['emm', 'fnn', 'goo', 'hpp']],\n",
       "\n",
       "       [['aaaiiii', 'bbbjjjj', 'ccckkkk', 'dddllll'],\n",
       "        ['eeemmmm', 'fffnnnn', 'gggoooo', 'hhhpppp']]], dtype=object)"
      ]
     },
     "execution_count": 6,
     "metadata": {},
     "output_type": "execute_result"
    }
   ],
   "source": [
    "obj_array = np.array([[[\"a\", \"b\", \"c\", \"d\"], [\"e\", \"f\", \"g\", \"h\"]], [[\"i\", \"j\", \"k\", \"l\"], [\"m\", \"n\", \"o\", \"p\"]]], dtype=object)\n",
    "\n",
    "np.tensordot([[1, 2], [3, 4]], obj_array, axes=1)"
   ]
  },
  {
   "cell_type": "code",
   "execution_count": 6,
   "metadata": {},
   "outputs": [],
   "source": [
    "from basic_qc_simulator.gates import GATETYPES_TO_GATE\n",
    "\n",
    "def generate_random_circuit(num_qubits: int, depth: int, seed: int) -> Circuit:\n",
    "    \"\"\"\n",
    "    Generate a random quantum circuit\n",
    "\n",
    "    Args:\n",
    "        num_qubits (int): number of qubits in the circuit\n",
    "        depth (int): depth of the circuit\n",
    "\n",
    "    Returns:\n",
    "        Circuit: random quantum circuit\n",
    "    \"\"\"\n",
    "    rng = np.random.default_rng(seed)\n",
    "    circuit = Circuit(num_qubits)\n",
    "    for _ in range(depth):\n",
    "        # one-qubit gates\n",
    "        for qubit in range(num_qubits):\n",
    "            gate_type = rng.choice(\n",
    "                [\"i\", \"x\", \"y\", \"z\", \"h\", \"s\", \"t\", \"phase\", \"rx\", \"ry\", \"rz\"]\n",
    "            )\n",
    "            if gate_type in [\"phase\", \"rx\", \"ry\", \"rz\"]:\n",
    "                circuit.add_gate(\n",
    "                    GATETYPES_TO_GATE[gate_type](rng.uniform(0, 2 * np.pi)),\n",
    "                    [qubit],\n",
    "                )\n",
    "            else:\n",
    "                circuit.add_gate(GATETYPES_TO_GATE[gate_type](), [qubit])\n",
    "        # two-qubit gate\n",
    "        gate = GATETYPES_TO_GATE[rng.choice([\"cx\", \"ccx\", \"swap\"])]()\n",
    "        if num_qubits < gate.num_qubits:\n",
    "            continue\n",
    "        qubit = rng.integers(num_qubits - gate.num_qubits + 1)\n",
    "        circuit.add_gate(gate, [qubit + i for i in range(gate.num_qubits)])\n",
    "    return circuit\n"
   ]
  },
  {
   "cell_type": "code",
   "execution_count": 7,
   "metadata": {},
   "outputs": [
    {
     "data": {
      "image/png": "[encoded data removed]",
      "text/plain": [
       "<Figure size 1123.61x284.278 with 1 Axes>"
      ]
     },
     "metadata": {},
     "output_type": "display_data"
    },
    {
     "data": {
      "text/plain": [
       "([(array([-0.99996299-3.20151017e-57j]), array([-2.16840434e-19+0.00860315j])),\n",
       "  (array([-0.10389747-0.01723044j, -0.96516676-0.23950271j]),\n",
       "   array([ 0.98103941+0.16269639j, -0.10221647-0.02536465j])),\n",
       "  (array([-0.82719213+0.j, -0.5619192 +0.j]),\n",
       "   array([ 0.51588868-0.22273763j, -0.75943135+0.32788845j]))],\n",
       " [array([1.]), array([0.74966778, 0.66181434])])"
      ]
     },
     "execution_count": 7,
     "metadata": {},
     "output_type": "execute_result"
    }
   ],
   "source": [
    "from basic_qc_simulator import Circuit\n",
    "from basic_qc_simulator.simulators import MatrixProductStateSimulator, StateVectorSimulator\n",
    "import numpy as np\n",
    "import logging\n",
    "\n",
    "# logger = logging.getLogger(\"basic_qc_simulator\")\n",
    "# logger.setLevel(logging.DEBUG)\n",
    "# if not logger.hasHandlers():\n",
    "#     logger.addHandler(logging.StreamHandler())\n",
    "\n",
    "circ = generate_random_circuit(3, 4, 0)\n",
    "\n",
    "circ.save_result(\"state_vector\")\n",
    "display(circ.draw(\"mpl\"))\n",
    "\n",
    "sim = StateVectorSimulator()\n",
    "sim.run(circ)\n",
    "sv = sim.results[0].result\n",
    "\n",
    "# MatrixProductStateSimulator._state_vector_to_left_canonical_matrix_product_state(sv, truncate=True)\n",
    "MatrixProductStateSimulator._state_vector_to_vidal_matrix_product_state(sv, truncate=True)"
   ]
  },
  {
   "cell_type": "code",
   "execution_count": 15,
   "metadata": {},
   "outputs": [
    {
     "data": {
      "image/png": "[encoded data removed]",
      "text/plain": [
       "<Figure size 1123.61x284.278 with 1 Axes>"
      ]
     },
     "metadata": {},
     "output_type": "display_data"
    },
    {
     "data": {
      "text/plain": [
       "([(array([[0.99996299+0.j]]), array([[0.-0.00860315j]])),\n",
       "  (array([[-0.10389747-0.01723044j,  0.96516676+0.23950271j]]),\n",
       "   array([[0.98103941+0.16269639j, 0.10221647+0.02536465j]])),\n",
       "  (array([[ 0.82719213-0.j],\n",
       "          [-0.5619192 -0.j]]),\n",
       "   array([[-0.51588868+0.22273763j],\n",
       "          [-0.75943135+0.32788845j]]))],\n",
       " [array([1.]), array([0.74966778, 0.66181434])])"
      ]
     },
     "execution_count": 15,
     "metadata": {},
     "output_type": "execute_result"
    }
   ],
   "source": [
    "from qiskit import QuantumCircuit\n",
    "from qiskit_aer import AerSimulator\n",
    "from qiskit.transpiler.passes import RemoveBarriers\n",
    "\n",
    "qiskit_circ = circ.to_qiskit()\n",
    "qiskit_circ = RemoveBarriers()(qiskit_circ)\n",
    "# qiskit_circ = qiskit_circ.reverse_bits()\n",
    "\n",
    "qiskit_circ.save_matrix_product_state()\n",
    "display(qiskit_circ.draw(\"mpl\"))\n",
    "qsim = AerSimulator(method=\"matrix_product_state\")\n",
    "qsim.run(qiskit_circ).result().data(0)[\"matrix_product_state\"]"
   ]
  },
  {
   "cell_type": "markdown",
   "metadata": {},
   "source": [
    "TODO: add explenation of MPS state"
   ]
  }
 ],
 "metadata": {
  "kernelspec": {
   "display_name": "basic-qc-simulator-uSNLwW-n-py3.11",
   "language": "python",
   "name": "python3"
  },
  "language_info": {
   "codemirror_mode": {
    "name": "ipython",
    "version": 3
   },
   "file_extension": ".py",
   "mimetype": "text/x-python",
   "name": "python",
   "nbconvert_exporter": "python",
   "pygments_lexer": "ipython3",
   "version": "3.11.7"
  }
 },
 "nbformat": 4,
 "nbformat_minor": 2
}
