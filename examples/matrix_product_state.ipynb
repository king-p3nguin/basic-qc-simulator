{
 "cells": [
  {
   "cell_type": "markdown",
   "metadata": {},
   "source": [
    "# Matrix product state simulator example"
   ]
  },
  {
   "cell_type": "markdown",
   "metadata": {},
   "source": [
    "## Import relevant modules"
   ]
  },
  {
   "cell_type": "code",
   "execution_count": null,
   "metadata": {},
   "outputs": [],
   "source": [
    "from basic_qc_simulator import Circuit\n",
    "from basic_qc_simulator.simulators import MatrixProductStateSimulator"
   ]
  },
  {
   "cell_type": "markdown",
   "metadata": {},
   "source": [
    "## Create a circuit"
   ]
  },
  {
   "cell_type": "code",
   "execution_count": null,
   "metadata": {},
   "outputs": [],
   "source": [
    "c = Circuit(3)\n",
    "c.h(0)\n",
    "c.cx(0, 1)\n",
    "c.cx(1, 2)\n",
    "c.save_result(\"state_vector\")\n",
    "c.cx(1, 2)\n",
    "c.cx(0, 1)\n",
    "c.h(0)\n",
    "c.save_result(\"state_vector\")\n",
    "c.draw(\"mpl\")"
   ]
  },
  {
   "cell_type": "markdown",
   "metadata": {},
   "source": [
    "## Run the matrix product state simulator"
   ]
  },
  {
   "cell_type": "code",
   "execution_count": null,
   "metadata": {},
   "outputs": [],
   "source": [
    "sim = MatrixProductStateSimulator()\n",
    "sim.run(c)"
   ]
  },
  {
   "cell_type": "code",
   "execution_count": null,
   "metadata": {},
   "outputs": [],
   "source": [
    "sim.results[0].result"
   ]
  },
  {
   "cell_type": "code",
   "execution_count": null,
   "metadata": {},
   "outputs": [],
   "source": [
    "sim.results[1].result"
   ]
  },
  {
   "cell_type": "code",
   "execution_count": null,
   "metadata": {},
   "outputs": [],
   "source": [
    "from basic_qc_simulator import Circuit\n",
    "from basic_qc_simulator.simulators import MatrixProductStateSimulator\n",
    "import numpy as np\n",
    "import logging\n",
    "\n",
    "logger = logging.getLogger(\"basic_qc_simulator\")\n",
    "logger.setLevel(logging.DEBUG)\n",
    "if not logger.hasHandlers():\n",
    "    logger.addHandler(logging.StreamHandler())\n",
    "\n",
    "circ = Circuit(3)\n",
    "\n",
    "circ.h(0)\n",
    "circ.save_result(\"matrix_product_state\")\n",
    "\n",
    "sim = MatrixProductStateSimulator()\n",
    "sv = np.array([1, 0, 0, 0, 0, 0, 0, 0], dtype=np.complex128)\n",
    "# sv = np.array([1, 0, 0, 0, 0, 0, 0, 1], dtype=np.complex128) / np.sqrt(2)\n",
    "\n",
    "# sim.run(circ)\n",
    "# sim.results[0].resultsin\n",
    "\n",
    "# sim._state_vector_to_left_canonical_matrix_product_state(sv, truncate=True)\n",
    "sim._state_vector_to_vidal_matrix_product_state(sv, truncate=True)"
   ]
  },
  {
   "cell_type": "code",
   "execution_count": null,
   "metadata": {},
   "outputs": [],
   "source": [
    "from qiskit import QuantumCircuit\n",
    "from qiskit_aer import AerSimulator\n",
    "\n",
    "qc = QuantumCircuit(3)\n",
    "\n",
    "qc.save_matrix_product_state()\n",
    "qsim = AerSimulator(method=\"matrix_product_state\")\n",
    "qsim.run(qc).result().data(0)[\"matrix_product_state\"]"
   ]
  },
  {
   "cell_type": "code",
   "execution_count": null,
   "metadata": {},
   "outputs": [],
   "source": [
    "obj_array = np.array(\n",
    "    [\n",
    "        [[\"a\", \"b\", \"c\", \"d\"], [\"e\", \"f\", \"g\", \"h\"]],\n",
    "        [[\"i\", \"j\", \"k\", \"l\"], [\"m\", \"n\", \"o\", \"p\"]],\n",
    "    ],\n",
    "    dtype=object,\n",
    ")\n",
    "\n",
    "np.tensordot([[1, 2], [3, 4]], obj_array, axes=1)"
   ]
  },
  {
   "cell_type": "code",
   "execution_count": 1,
   "metadata": {},
   "outputs": [],
   "source": [
    "from basic_qc_simulator.gates import GATETYPES_TO_GATE\n",
    "from basic_qc_simulator import Circuit\n",
    "\n",
    "\n",
    "def generate_random_circuit(num_qubits: int, depth: int, seed: int) -> Circuit:\n",
    "    \"\"\"\n",
    "    Generate a random quantum circuit\n",
    "\n",
    "    Args:\n",
    "        num_qubits (int): number of qubits in the circuit\n",
    "        depth (int): depth of the circuit\n",
    "\n",
    "    Returns:\n",
    "        Circuit: random quantum circuit\n",
    "    \"\"\"\n",
    "    rng = np.random.default_rng(seed)\n",
    "    circuit = Circuit(num_qubits)\n",
    "    for _ in range(depth):\n",
    "        # one-qubit gates\n",
    "        for qubit in range(num_qubits):\n",
    "            gate_type = rng.choice(\n",
    "                [\"i\", \"x\", \"y\", \"z\", \"h\", \"s\", \"t\", \"phase\", \"rx\", \"ry\", \"rz\"]\n",
    "            )\n",
    "            if gate_type in [\"phase\", \"rx\", \"ry\", \"rz\"]:\n",
    "                circuit.add_gate(\n",
    "                    GATETYPES_TO_GATE[gate_type](rng.uniform(0, 2 * np.pi)),\n",
    "                    [qubit],\n",
    "                )\n",
    "            else:\n",
    "                circuit.add_gate(GATETYPES_TO_GATE[gate_type](), [qubit])\n",
    "        # two-qubit gate\n",
    "        gate = GATETYPES_TO_GATE[rng.choice([\"cx\", \"ccx\", \"swap\"])]()\n",
    "        if num_qubits < gate.num_qubits:\n",
    "            continue\n",
    "        qubit = rng.integers(num_qubits - gate.num_qubits + 1)\n",
    "        circuit.add_gate(gate, [qubit + i for i in range(gate.num_qubits)])\n",
    "    return circuit"
   ]
  },
  {
   "cell_type": "code",
   "execution_count": 2,
   "metadata": {},
   "outputs": [
    {
     "name": "stdout",
     "output_type": "stream",
     "text": [
      "StateVector([ 4.62123112e-03-2.49878590e-03j  2.49878590e-03+4.62123112e-03j\n",
      "  4.89413782e-04-2.64635164e-04j  2.64635164e-04+4.89413782e-04j\n",
      "  2.90439504e-01+5.37136085e-01j -5.37136085e-01+2.90439504e-01j\n",
      "  3.07591402e-02+5.68856644e-02j -5.68856644e-02+3.07591402e-02j\n",
      " -1.03599156e-01+3.32888199e-01j -3.32888199e-01-1.03599156e-01j\n",
      " -1.09717202e-02+3.52546904e-02j -3.52546904e-02-1.09717202e-02j\n",
      "  2.86399173e-03+8.91311642e-04j -8.91311642e-04+2.86399173e-03j\n",
      "  3.03312469e-04+9.43948031e-05j -9.43948031e-05+3.03312469e-04j])\n",
      "MatrixProductState(gammas=[\n",
      "\t[[[1.+0.j 0.+0.j]]\n",
      "\n",
      " [[0.+0.j 1.+0.j]]],\n",
      "\t[[[-0.00756768+0.00409199j -0.38532846-0.19624292j\n",
      "   -0.91757322+0.52830793j  0.03654989+0.12856302j]\n",
      "  [ 0.29714431-0.95479382j  0.1990971 +1.61136688j\n",
      "   -0.58900798-0.28195471j -0.02715941+0.06678792j]]\n",
      "\n",
      " [[-0.47562068-0.87960841j -0.42286845-0.31725035j\n",
      "    0.20447166-0.06597608j -0.00286557-0.02040433j]\n",
      "  [-0.00821453-0.00255647j  0.01429588+0.02017839j\n",
      "    0.16346661+0.18410903j -1.74549938+0.97960444j]]],\n",
      "\t[[[-9.94438750e-01+4.03408519e-35j -1.17018368e-02-4.56769725e-19j]\n",
      "  [-2.90698370e-02-5.77263401e-03j -1.08649720e+16+6.53621409e+13j]\n",
      "  [-9.61574536e-02-3.10956113e-02j  3.16686067e+15+3.52088099e+14j]\n",
      "  [-4.85241619e-18-4.90653893e-18j  5.49427368e-02+5.55555556e-02j]]\n",
      "\n",
      " [[-1.05316531e-01+2.13020258e-36j  1.10493194e-01-2.41197694e-20j]\n",
      "  [ 2.74488460e-01+5.45074064e-02j -2.69793079e-01+3.19807651e-04j]\n",
      "  [ 9.07955259e-01+2.93616592e-01j -7.08396923e-01+1.72271695e-03j]\n",
      "  [ 3.58776438e-16+1.12117637e-17j  1.13081660e+16-5.74666409e+14j]]],\n",
      "\t[[[0.70710678+0.j        ]\n",
      "  [0.70710678+0.j        ]]\n",
      "\n",
      " [[0.        +0.70710678j]\n",
      "  [0.        -0.70710678j]]],\n",
      "], lambdas=[\n",
      "\t[0.8684242  0.49582196],\n",
      "\t[1.00000000e+00 9.09038264e-17 3.45674505e-17 2.38389319e-34],\n",
      "\t[1.00000000e+00 8.83177008e-17],\n",
      "])\n",
      "StateVector([ 4.62123112e-03-2.49878590e-03j  2.49878590e-03+4.62123112e-03j\n",
      "  4.89413782e-04-2.64635164e-04j  2.64635164e-04+4.89413782e-04j\n",
      "  2.90439504e-01+5.37136085e-01j -5.37136085e-01+2.90439504e-01j\n",
      "  3.07591402e-02+5.68856644e-02j -5.68856644e-02+3.07591402e-02j\n",
      " -1.03599156e-01+3.32888199e-01j -3.32888199e-01-1.03599156e-01j\n",
      " -1.09717202e-02+3.52546904e-02j -3.52546904e-02-1.09717202e-02j\n",
      "  2.86399173e-03+8.91311642e-04j -8.91311642e-04+2.86399173e-03j\n",
      "  3.03312469e-04+9.43948031e-05j -9.43948031e-05+3.03312469e-04j])\n"
     ]
    }
   ],
   "source": [
    "from basic_qc_simulator import Circuit\n",
    "from basic_qc_simulator.simulators import (\n",
    "    MatrixProductStateSimulator,\n",
    "    StateVectorSimulator,\n",
    ")\n",
    "from basic_qc_simulator.quantum_info.states import MatrixProductState, StateVector\n",
    "import numpy as np\n",
    "import logging\n",
    "\n",
    "# logger = logging.getLogger(\"basic_qc_simulator\")\n",
    "# logger.setLevel(logging.DEBUG)\n",
    "# if not logger.hasHandlers():\n",
    "#     logger.addHandler(logging.StreamHandler())\n",
    "\n",
    "circ = generate_random_circuit(4, 4, 0)\n",
    "\n",
    "circ.save_result(\"state_vector\")\n",
    "# display(circ.draw(\"mpl\"))\n",
    "\n",
    "sim = StateVectorSimulator()\n",
    "sim.run(circ)\n",
    "sv = sim.results[0].result\n",
    "\n",
    "# sv_init = np.array([1, 0, 0, 0, 0, 0, 0, 0], dtype=np.complex128)\n",
    "# sv_init = StateVector(sv_init)\n",
    "# mps = MatrixProductState.from_state_vector(sv_init, truncate=True)\n",
    "# print(mps)\n",
    "# print(mps.to_state_vector())\n",
    "\n",
    "print(sv)\n",
    "# print(np.abs(sv) ** 2)\n",
    "mps = MatrixProductState.from_state_vector(sv, truncate=False)\n",
    "print(mps)\n",
    "print(mps.to_state_vector())"
   ]
  },
  {
   "cell_type": "markdown",
   "metadata": {},
   "source": [
    "TODO: add explanation of MPS state"
   ]
  },
  {
   "cell_type": "markdown",
   "metadata": {},
   "source": []
  },
  {
   "cell_type": "code",
   "execution_count": null,
   "metadata": {},
   "outputs": [],
   "source": [
    "from quimb.tensor.tensor_1d import MatrixProductState\n",
    "\n",
    "print(sv)\n",
    "for tn in MatrixProductState.from_dense(sv.state_vector, absorb=\"both\").tensors:\n",
    "    print(tn.data)"
   ]
  },
  {
   "cell_type": "code",
   "execution_count": null,
   "metadata": {},
   "outputs": [],
   "source": []
  },
  {
   "cell_type": "code",
   "execution_count": null,
   "metadata": {},
   "outputs": [],
   "source": []
  }
 ],
 "metadata": {
  "kernelspec": {
   "display_name": "basic-qc-simulator-uSNLwW-n-py3.11",
   "language": "python",
   "name": "python3"
  },
  "language_info": {
   "codemirror_mode": {
    "name": "ipython",
    "version": 3
   },
   "file_extension": ".py",
   "mimetype": "text/x-python",
   "name": "python",
   "nbconvert_exporter": "python",
   "pygments_lexer": "ipython3",
   "version": "3.11.7"
  }
 },
 "nbformat": 4,
 "nbformat_minor": 2
}
